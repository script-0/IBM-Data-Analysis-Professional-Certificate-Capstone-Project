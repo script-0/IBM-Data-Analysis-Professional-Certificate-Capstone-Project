{
  "nbformat": 4,
  "nbformat_minor": 0,
  "metadata": {
    "kernelspec": {
      "display_name": "Python 3",
      "language": "python",
      "name": "python3"
    },
    "language_info": {
      "codemirror_mode": {
        "name": "ipython",
        "version": 3
      },
      "file_extension": ".py",
      "mimetype": "text/x-python",
      "name": "python",
      "nbconvert_exporter": "python",
      "pygments_lexer": "ipython3",
      "version": "3.7.6"
    },
    "colab": {
      "name": "Collecting_job_data_using_APIs-Lab.ipynb",
      "provenance": []
    }
  },
  "cells": [
    {
      "cell_type": "markdown",
      "metadata": {
        "id": "tWdxz_yOUznT"
      },
      "source": [
        "<center>\n",
        "    <img src=\"https://gitlab.com/ibm/skills-network/courses/placeholder101/-/raw/master/labs/module%201/images/IDSNlogo.png\" width=\"300\" alt=\"cognitiveclass.ai logo\"  />\n",
        "</center>\n"
      ]
    },
    {
      "cell_type": "markdown",
      "metadata": {
        "id": "L-_l0TncUzor"
      },
      "source": [
        "# **Collecting Job Data Using APIs**\n"
      ]
    },
    {
      "cell_type": "markdown",
      "metadata": {
        "id": "prU8i1SCUzo1"
      },
      "source": [
        "Estimated time needed: **45 to 60** minutes\n"
      ]
    },
    {
      "cell_type": "markdown",
      "metadata": {
        "id": "p3c9zx2LUzo7"
      },
      "source": [
        "## Objectives\n"
      ]
    },
    {
      "cell_type": "markdown",
      "metadata": {
        "id": "fNLx-pN0UzpB"
      },
      "source": [
        "After completing this lab, you will be able to:\n"
      ]
    },
    {
      "cell_type": "markdown",
      "metadata": {
        "id": "X3Cx8T55Uzpc"
      },
      "source": [
        "-   Collect job data from GitHub Jobs API\n",
        "-   Store the collected data into an excel spreadsheet. \n"
      ]
    },
    {
      "cell_type": "markdown",
      "metadata": {
        "id": "FvmCrxIGUzp8"
      },
      "source": [
        "## Warm-Up Exercise\n"
      ]
    },
    {
      "cell_type": "markdown",
      "metadata": {
        "id": "U7pVlnlXUzqD"
      },
      "source": [
        "Before you attempt the actual lab, here is a fully solved warmup exercise that will help you to learn how to access an API.\n"
      ]
    },
    {
      "cell_type": "markdown",
      "metadata": {
        "id": "eG0i-9LzUzqL"
      },
      "source": [
        "Using an API, let us find out who currently are on the International Space Station (ISS).<br> The API at [http://api.open-notify.org/astros.json](http://api.open-notify.org/astros.json?cm_mmc=Email_Newsletter-_-Developer_Ed%2BTech-_-WW_WW-_-SkillsNetwork-Courses-IBM-DA0321EN-SkillsNetwork-21426264&cm_mmca1=000026UJ&cm_mmca2=10006555&cm_mmca3=M12345678&cvosrc=email.Newsletter.M12345678&cvo_campaign=000026UJ&cm_mmc=Email_Newsletter-_-Developer_Ed%2BTech-_-WW_WW-_-SkillsNetwork-Courses-IBM-DA0321EN-SkillsNetwork-21426264&cm_mmca1=000026UJ&cm_mmca2=10006555&cm_mmca3=M12345678&cvosrc=email.Newsletter.M12345678&cvo_campaign=000026UJ&cm_mmc=Email_Newsletter-_-Developer_Ed%2BTech-_-WW_WW-_-SkillsNetwork-Courses-IBM-DA0321EN-SkillsNetwork-21426264&cm_mmca1=000026UJ&cm_mmca2=10006555&cm_mmca3=M12345678&cvosrc=email.Newsletter.M12345678&cvo_campaign=000026UJ&cm_mmc=Email_Newsletter-_-Developer_Ed%2BTech-_-WW_WW-_-SkillsNetwork-Courses-IBM-DA0321EN-SkillsNetwork-21426264&cm_mmca1=000026UJ&cm_mmca2=10006555&cm_mmca3=M12345678&cvosrc=email.Newsletter.M12345678&cvo_campaign=000026UJ&cm_mmc=Email_Newsletter-_-Developer_Ed%2BTech-_-WW_WW-_-SkillsNetwork-Courses-IBM-DA0321EN-SkillsNetwork-21426264&cm_mmca1=000026UJ&cm_mmca2=10006555&cm_mmca3=M12345678&cvosrc=email.Newsletter.M12345678&cvo_campaign=000026UJ&cm_mmc=Email_Newsletter-_-Developer_Ed%2BTech-_-WW_WW-_-SkillsNetwork-Courses-IBM-DA0321EN-SkillsNetwork-21426264&cm_mmca1=000026UJ&cm_mmca2=10006555&cm_mmca3=M12345678&cvosrc=email.Newsletter.M12345678&cvo_campaign=000026UJ&cm_mmc=Email_Newsletter-_-Developer_Ed%2BTech-_-WW_WW-_-SkillsNetwork-Courses-IBM-DA0321EN-SkillsNetwork-21426264&cm_mmca1=000026UJ&cm_mmca2=10006555&cm_mmca3=M12345678&cvosrc=email.Newsletter.M12345678&cvo_campaign=000026UJ&cm_mmc=Email_Newsletter-_-Developer_Ed%2BTech-_-WW_WW-_-SkillsNetwork-Courses-IBM-DA0321EN-SkillsNetwork-21426264&cm_mmca1=000026UJ&cm_mmca2=10006555&cm_mmca3=M12345678&cvosrc=email.Newsletter.M12345678&cvo_campaign=000026UJ) gives us the information of astronauts currently on ISS in json format.<br>\n",
        "You can read more about this API at [http://open-notify.org/Open-Notify-API/People-In-Space/](http://open-notify.org/Open-Notify-API/People-In-Space?cm_mmc=Email_Newsletter-_-Developer_Ed%2BTech-_-WW_WW-_-SkillsNetwork-Courses-IBM-DA0321EN-SkillsNetwork-21426264&cm_mmca1=000026UJ&cm_mmca2=10006555&cm_mmca3=M12345678&cvosrc=email.Newsletter.M12345678&cvo_campaign=000026UJ&cm_mmc=Email_Newsletter-_-Developer_Ed%2BTech-_-WW_WW-_-SkillsNetwork-Courses-IBM-DA0321EN-SkillsNetwork-21426264&cm_mmca1=000026UJ&cm_mmca2=10006555&cm_mmca3=M12345678&cvosrc=email.Newsletter.M12345678&cvo_campaign=000026UJ&cm_mmc=Email_Newsletter-_-Developer_Ed%2BTech-_-WW_WW-_-SkillsNetwork-Courses-IBM-DA0321EN-SkillsNetwork-21426264&cm_mmca1=000026UJ&cm_mmca2=10006555&cm_mmca3=M12345678&cvosrc=email.Newsletter.M12345678&cvo_campaign=000026UJ&cm_mmc=Email_Newsletter-_-Developer_Ed%2BTech-_-WW_WW-_-SkillsNetwork-Courses-IBM-DA0321EN-SkillsNetwork-21426264&cm_mmca1=000026UJ&cm_mmca2=10006555&cm_mmca3=M12345678&cvosrc=email.Newsletter.M12345678&cvo_campaign=000026UJ&cm_mmc=Email_Newsletter-_-Developer_Ed%2BTech-_-WW_WW-_-SkillsNetwork-Courses-IBM-DA0321EN-SkillsNetwork-21426264&cm_mmca1=000026UJ&cm_mmca2=10006555&cm_mmca3=M12345678&cvosrc=email.Newsletter.M12345678&cvo_campaign=000026UJ&cm_mmc=Email_Newsletter-_-Developer_Ed%2BTech-_-WW_WW-_-SkillsNetwork-Courses-IBM-DA0321EN-SkillsNetwork-21426264&cm_mmca1=000026UJ&cm_mmca2=10006555&cm_mmca3=M12345678&cvosrc=email.Newsletter.M12345678&cvo_campaign=000026UJ&cm_mmc=Email_Newsletter-_-Developer_Ed%2BTech-_-WW_WW-_-SkillsNetwork-Courses-IBM-DA0321EN-SkillsNetwork-21426264&cm_mmca1=000026UJ&cm_mmca2=10006555&cm_mmca3=M12345678&cvosrc=email.Newsletter.M12345678&cvo_campaign=000026UJ&cm_mmc=Email_Newsletter-_-Developer_Ed%2BTech-_-WW_WW-_-SkillsNetwork-Courses-IBM-DA0321EN-SkillsNetwork-21426264&cm_mmca1=000026UJ&cm_mmca2=10006555&cm_mmca3=M12345678&cvosrc=email.Newsletter.M12345678&cvo_campaign=000026UJ)\n"
      ]
    },
    {
      "cell_type": "code",
      "metadata": {
        "id": "B4BaICmOUzqS"
      },
      "source": [
        "import requests # you need this module to make an API call"
      ],
      "execution_count": 1,
      "outputs": []
    },
    {
      "cell_type": "code",
      "metadata": {
        "id": "ZYcejf1uUzqZ"
      },
      "source": [
        "api_url = \"http://api.open-notify.org/astros.json\" # this url gives use the astronaut data"
      ],
      "execution_count": 2,
      "outputs": []
    },
    {
      "cell_type": "code",
      "metadata": {
        "id": "Pi3e0xQTUzqj"
      },
      "source": [
        "response = requests.get(api_url) # Call the API using the get method and store the\n",
        "                                # output of the API call in a variable called response."
      ],
      "execution_count": 3,
      "outputs": []
    },
    {
      "cell_type": "code",
      "metadata": {
        "id": "-FZ8J0IfUzqn"
      },
      "source": [
        "if response.ok:             # if all is well() no errors, no network timeouts)\n",
        "    data = response.json()  # store the result in json format in a variable called data\n",
        "                            # the variable data is of type dictionary."
      ],
      "execution_count": 4,
      "outputs": []
    },
    {
      "cell_type": "code",
      "metadata": {
        "id": "vUVkObUpUzqr"
      },
      "source": [
        "print(data)   # print the data just to check the output or for debugging"
      ],
      "execution_count": null,
      "outputs": []
    },
    {
      "cell_type": "markdown",
      "metadata": {
        "id": "WTFTK1zyUzqt"
      },
      "source": [
        "Print the number of astronauts currently on ISS.\n"
      ]
    },
    {
      "cell_type": "code",
      "metadata": {
        "colab": {
          "base_uri": "https://localhost:8080/"
        },
        "id": "hojfOx9JUzqw",
        "outputId": "738b2941-a23e-44ae-ac78-a48af05c28ba"
      },
      "source": [
        "print(data.get('number'))"
      ],
      "execution_count": 6,
      "outputs": [
        {
          "output_type": "stream",
          "text": [
            "7\n"
          ],
          "name": "stdout"
        }
      ]
    },
    {
      "cell_type": "markdown",
      "metadata": {
        "id": "5ncAbkKWUzqz"
      },
      "source": [
        "Print the names of the astronauts currently on ISS.\n"
      ]
    },
    {
      "cell_type": "code",
      "metadata": {
        "colab": {
          "base_uri": "https://localhost:8080/"
        },
        "id": "DD1e1dYkUzq1",
        "outputId": "38b11678-95ab-40a1-b373-56433fe51b6a"
      },
      "source": [
        "astronauts = data.get('people')\n",
        "print(\"There are {} astronauts on ISS\".format(len(astronauts)))\n",
        "print(\"And their names are :\")\n",
        "for astronaut in astronauts:\n",
        "    print(astronaut.get('name'))"
      ],
      "execution_count": 7,
      "outputs": [
        {
          "output_type": "stream",
          "text": [
            "There are 7 astronauts on ISS\n",
            "And their names are :\n",
            "Sergey Ryzhikov\n",
            "Kate Rubins\n",
            "Sergey Kud-Sverchkov\n",
            "Mike Hopkins\n",
            "Victor Glover\n",
            "Shannon Walker\n",
            "Soichi Noguchi\n"
          ],
          "name": "stdout"
        }
      ]
    },
    {
      "cell_type": "markdown",
      "metadata": {
        "id": "mUlBRzujUzq3"
      },
      "source": [
        "Hope the warmup was helpful. Good luck with your next lab!\n"
      ]
    },
    {
      "cell_type": "markdown",
      "metadata": {
        "id": "qcIW1BtqUzq6"
      },
      "source": [
        "## Lab: Collect Jobs Data using GitHub Jobs API\n"
      ]
    },
    {
      "cell_type": "markdown",
      "metadata": {
        "id": "WYYU51JGUzq8"
      },
      "source": [
        "Before you start doing this lab, get familier with the GitHub Jobs API.<br>\n",
        "The documentation for the GitHub Jobs API can be found at <https://jobs.github.com/api><br>\n",
        "\n",
        "<li>Understand what urls to use.<br>\n",
        "<li>Understand what parameters have to be passed.<br>\n",
        "<li>Understand the format of the output data.</li>\n"
      ]
    },
    {
      "cell_type": "markdown",
      "metadata": {
        "id": "NjL9IBNRUzq-"
      },
      "source": [
        "### Objective: Determine the number of jobs currently open for various technologies\n"
      ]
    },
    {
      "cell_type": "markdown",
      "metadata": {
        "id": "Zky-xKjEUzrA"
      },
      "source": [
        "Collect the number of job postings for the following languages using the API:\n",
        "\n",
        "-   C\n",
        "-   C#\n",
        "-   C++\n",
        "-   Java\n",
        "-   JavaScript\n",
        "-   Python\n",
        "-   Scala\n",
        "-   Oracle\n",
        "-   SQL Server\n",
        "-   MySQL Server\n",
        "-   PostgreSQL\n",
        "-   MongoDB\n"
      ]
    },
    {
      "cell_type": "code",
      "metadata": {
        "id": "pRUrQ5ASUzrC"
      },
      "source": [
        "#Import required libraries\n",
        "import requests\n"
      ],
      "execution_count": 8,
      "outputs": []
    },
    {
      "cell_type": "code",
      "metadata": {
        "colab": {
          "base_uri": "https://localhost:8080/"
        },
        "id": "rgT97gm1UzrE",
        "outputId": "0ae9e95a-9989-41b1-fda7-f5db01471f8b"
      },
      "source": [
        "baseurl = \"https://jobs.github.com/positions.json\"\r\n",
        "api_url = 'https://jobs.github.com/positions.json?description=C%23&page=0'\r\n",
        "response = requests.get(api_url)\r\n",
        "if response.ok:     # if all is well() no errors, no network timeouts 86865d92-3b19-4e98-a441-f08b70290257\r\n",
        "    data = response.json()\r\n",
        "    print(data)"
      ],
      "execution_count": 61,
      "outputs": [
        {
          "output_type": "stream",
          "text": [
            "[{'id': '86865d92-3b19-4e98-a441-f08b70290257', 'type': 'Full Time', 'url': 'https://jobs.github.com/positions/86865d92-3b19-4e98-a441-f08b70290257', 'created_at': 'Thu Dec 24 14:20:42 UTC 2020', 'company': 'Tedas', 'company_url': 'http://www.tedas.nl/tedas/over-ons/', 'location': 'Brummen', 'title': '.NET/C# Software engineer', 'description': '<p><strong>.NET/C# Software engineer</strong></p>\\n<p><em>Brummen, 40 uur per week</em></p>\\n<p>Ben je bekwaam in het ontwikkelen van front- en backend applicaties? Wil je graag de puzzels oplossen die binnen frameworks voorkomen? Wil je meewerken aan de informatiebeveiliging van onze vitale infrastructuur in Nederland? Wegens groei van de organisatie zijn we op zoek naar meerdere collega’s. Dus ben je een junior-, medior-, of senior engineer? Reageer dan zeker en wie weet ben je onze nieuwe collega in 2021 als .NET/C# Software engineer.</p>\\n<p><strong>Wat ga je doen</strong></p>\\n<p>Bij Tedas staat het verbeteren en implementeren van digitale weerbaarheid van onze klanten in de vitale infrastructuur voorop. Vanuit je rol als .NET/ C# Software engineer ga je je vooral bezighouden met ons eigen framework Fusion. Samen met je collega’s verbeter je en pas je daar waar nodig de verschillende front- en backend applicaties aan zodat we een optimale informatiebeveiligingsstructuur aanbieden en in stand houden. Met je collega’s denk je actief mee aan de ontwikkeling van ons framework Fusion. Met jouw actuele kennis van de nieuwste technieken kunnen we het framework nog beter maken. Onderdeel van de rol is ook het ondersteunen van andere afdelingen bij de verschillende werkzaamheden. Als IT-organisatie werken we zoveel als mogelijk binnen elk team volgens de Scrum-methode.</p>\\n<p><strong>Wat breng je mee</strong></p>\\n<ul>\\n<li>Enthousiasme, ondernemerschap, vermogen om zaken te analyseren en ook op te lossen en natuurlijk humor.</li>\\n<li>(Ruime) <strong>kennis</strong> op het gebied van <strong>C#</strong>, <strong>.NET</strong> en <strong>microservices</strong>.</li>\\n<li>\\n<strong>Ervaring</strong> met <strong>middleware</strong> zoals AMQP.</li>\\n<li>Kennis en ervaring met Docker en React geeft je zeker een streepje voor.</li>\\n<li>Communicatief vaardig in de <strong>Nederlandse</strong> en <strong>Engelse taal</strong>, mondeling en schriftelijk.</li>\\n<li>Minimaal een relevante afgeronde <strong>hbo</strong>-<strong>opleiding</strong>.</li>\\n</ul>\\n<p><strong>Wat bieden we jou</strong></p>\\n<ul>\\n<li>Een werkweek van maximaal 40 uur per week.</li>\\n<li>Een bruto salaris tussen de € 3.000,- en € 4.000,- per maand.</li>\\n<li>25 vakantiedagen per kalenderjaar.</li>\\n<li>8% vakantietoeslag.</li>\\n<li>Deelname pensioenfonds Nationale Nederlanden.</li>\\n<li>Ruime reiskostenvergoeding woon-werkverkeer.</li>\\n<li>Wekelijks patat op vrijdag.</li>\\n<li>Vrij vanaf 15.00 uur op 5, 24 en 31 december.</li>\\n<li>Cursus- en opleidingsmogelijkheden.</li>\\n<li>Attentie op je verjaardag.</li>\\n<li>Verse Nespresso koffie.</li>\\n<li>........Ga zo maar door.</li>\\n</ul>\\n<p><strong>Wie zijn wij</strong></p>\\n<p>Werken bij Tedas betekent dat je substantiële meerwaarde levert aan de digitale weerbaarheid van onze klanten. Denk daarbij aan Defensie, Opsporings- en Inlichtingen- &amp; Veiligheidsdiensten en leveranciers van de vitale infrastructuur. Tedas is een innovatief bedrijf waarin iedere medewerker zich bewust is van de maatschappelijke relevantie van onze activiteiten. Op dit moment zijn we met ruim 30 collega’s en is er ruimte voor meer collega’s.</p>\\n<p>Binnen Tedas heerst een informele en ontspannen sfeer waar in alle openheid wordt gecommuniceerd en waar mensen zich op hun gemak voelen. Een prima klimaat om onze doelstellingen te behalen.</p>\\n<p>Ons kantoor is gevestigd in Brummen en goed bereikbaar vanuit Ede-Wageningen, Arnhem, Amersfoort, Zwolle, Zutphen en Deventer. We werken met name volgens de Agile methode aan de verschillende applicaties en netwerken die we samen met onze eindklant ontwerpen en ontwikkelen.</p>\\n<p><strong>Geïnteresseerd</strong></p>\\n<p>Spreken niet alleen onze arbeidsvoorwaarden je aan, maar ook de inhoud van het werk dat je voor een veiliger Nederland gaat doen? Of wil je eerst nog meer informatie? Bel met Ellen Langelaar, teamleider, via telefoonnummer 06-12 12 04 83.</p>\\n<p>Wil je reageren op deze vacature? Mail dan je motivatie en cv naar <a href=\"mailto:werkenbij@tedas.nl\"><strong>werkenbij@tedas.nl</strong></a>. Reageren <strong>voor 15 januari 2021</strong>.</p>\\n<p><em>Acquisitie naar aanleiding van deze vacature wordt niet op prijs gesteld.</em><img src=\"https://camo.githubusercontent.com/68e6b08858bc67393a906037af6ab699d3287dc8/68747470733a2f2f62636f6e74726f6c2e62726f636b6d657965722e6e6c2f747261636b2e7068703f6f7264657269643d323135303530\"></p>\\n', 'how_to_apply': '<p><a href=\"https://ltpx.nl/9DAPiVv\">Klik hier om te solliciteren</a></p>\\n', 'company_logo': 'https://jobs.github.com/rails/active_storage/blobs/eyJfcmFpbHMiOnsibWVzc2FnZSI6IkJBaHBBdWVUIiwiZXhwIjpudWxsLCJwdXIiOiJibG9iX2lkIn19--da81cb51d920fbc0474b1e97026c0ffc2a6815db/Tedas_logo_liggend_fc-300.png'}, {'id': 'b8a2fad5-7994-4c87-8e88-aae729108063', 'type': 'Full Time', 'url': 'https://jobs.github.com/positions/b8a2fad5-7994-4c87-8e88-aae729108063', 'created_at': 'Wed Dec 23 14:59:27 UTC 2020', 'company': 'ELISE GmbH', 'company_url': 'https://www.elise.de/', 'location': 'Bremen', 'title': 'Desktop Application Developer', 'description': '<p><strong>Desktop Application Developer</strong></p>\\n<p>Our <strong>open platform</strong> enables mechanical engineers to fundamentally change their way of working. We are developing an application that accelerates the pace of innovation for our customers by providing them with the tools to model technical components using <strong>design algorithms</strong> and test simulations. Our <strong>desktop application</strong> allows its users to focus on the requirements of their components and leave repetitive redesign and evaluation to the application.</p>\\n<p><strong>What you\\'ll be working on</strong></p>\\n<p>We are looking for a <strong>Desktop Application Developer</strong> to join our team. You will work on our application which allows the user to create, arrange and modify complex models as graphs. If you enjoy building Windows desktop applications and have a very good understanding of .NET, you are the perfect addition to our team!</p>\\n<ul>\\n<li>Together with other developers you will add new functionality to our C# application while guarding and improving the architecture and functionality of the application.</li>\\n<li>You will be responsible for understanding how .NET applications work and for having a focus on performance.</li>\\n<li>Together with your team you will bring stories from a conceptual state to implemented in a release.</li>\\n<li>You will be an active team member of one of our multiple Scrum teams working on the same application, so collecting and sharing knowledge is an important part of your daily work.</li>\\n<li>If you also have knowledge of WPF and Direct2D, you will impress us even more!</li>\\n</ul>\\n<p><strong>Why ELISE</strong></p>\\n<p>As a Startup we revolutionize the design process for 3D printing with our software. Do you love to work on cutting-edge projects for automotive, aviation and space industry? We are proud of our team - our people are excellent in what they do. We offer an exciting and varied work in the interdisciplinary field with a lot of creative freedom in a small, enthusiastic team. We care about personal growth and invest in the development of our employees. Together with you, we want to perfect our software and position it in a fast-growing, exciting market. Read more at: <a href=\"https://www.elise.de/company/career/\"><strong>www.elise.de/company/career/</strong></a>.</p>\\n<p><strong>Requirements</strong></p>\\n<ul>\\n<li>Bachelor\\'s degree or higher in computer science, mathematics, or related fields.</li>\\n<li>Extensive knowledge about all frameworks and tricks in the .NET world in combination with Windows Desktop Applications.</li>\\n<li>Proven experience in C# (or in similar languages).</li>\\n<li>Experience with WPF and/or Direct2D.</li>\\n<li>Experience with git or other modern version control systems.</li>\\n<li>A passion for robust development practices including test-driven development, continuous integration and agile methodologies.</li>\\n<li>Excited to work in a fast-paced, team-oriented environment.</li>\\n<li>Strong verbal and written communication skills in English.</li>\\n<li>Preferred Qualifications.</li>\\n<li>Experience in C++ desirable.</li>\\n<li>Knowledge of computer aided design and/or finite element analysis desirable.</li>\\n<li>Knowledge of geometry processing libraries (e.g., Parasolid, Hoops, OpenVDB) desirable.</li>\\n<li>Interest in artificial intelligence preferable.</li>\\n</ul>\\n<p><strong>Are you up for the challenge?</strong></p>\\n<p>We change the way product development works and are looking for a full time <strong>Desktop Application Developer</strong> (.NET) (m/f/d). Do you want to join? Apply now via the <a href=\"https://ltpx.nl/FcVOkC3\"><strong>application form</strong></a>.</p>\\n<p><em>Agency calls are not appreciated.</em><img src=\"https://camo.githubusercontent.com/edbd39aae2fbe85ffa62526f1b9136f74239ad1f/68747470733a2f2f62636f6e74726f6c2e62726f636b6d657965722e6e6c2f747261636b2e7068703f6f7264657269643d323137333834\"></p>\\n', 'how_to_apply': '<p><a href=\"https://ltpx.nl/dNKIPlP\">Click here to apply</a></p>\\n', 'company_logo': 'https://jobs.github.com/rails/active_storage/blobs/eyJfcmFpbHMiOnsibWVzc2FnZSI6IkJBaHBBcENUIiwiZXhwIjpudWxsLCJwdXIiOiJibG9iX2lkIn19--b4b5a042dc90480eba2770d9c2c083c99a5210e7/logo_elise_800.png'}, {'id': 'bfa92535-afe3-4cfc-a6d7-83e17aad21a3', 'type': 'Full Time', 'url': 'https://jobs.github.com/positions/bfa92535-afe3-4cfc-a6d7-83e17aad21a3', 'created_at': 'Mon Dec 21 17:13:08 UTC 2020', 'company': 'MAC IT-Solutions GmbH', 'company_url': 'https://www.mac-its.com/', 'location': 'Flensburg', 'title': 'Azure DevOps Engineer (w/m/d)', 'description': '<p>Die MAC IT-Solutions GmbH ist ein Spezialdienstleister für den Versand- und Onlinehandel. Das besondere Augenmerk richtet sich auf die Entwicklung und Implementierung von ERP Software für den unter Multichannel zusammengefassten klassischen Versandhandel, den Online- sowie den stationären Handel. Die MAC versteht sich als kompetenter Lösungspartner der Anforderungen ihrer Kunden und ist langjähriger zertifizierter Microsoft Gold Certified Partner und IBM Advanced Business Partner.Die MAC ist europaweit tätig. Über 100 Versandhandelsunternehmen arbeiten in 13 europäischen Ländern mit den Softwarelösungen von MAC. Darunter sind zahlreiche namhafte Versender sowie einige Unternehmen der Top 100 des Deutschen Versandhandels.\\nDie Standorte der MAC befinden sich in Flensburg, Kiel und Hamburg. Die Gründung erfolgte im Jahre 2002 durch den heutigen Geschäftsführer Dirk Wieland. Derzeit beträgt die Mitarbeiterzahl über 120 Personen mit wachsender Tendenz.</p>\\n<p><strong>Wir suchen dich!</strong></p>\\n<p>Du hast Interesse an IT Infrastruktur? Du trägst das Betriebs-Gen in dir und setzt alles daran, dass die Systeme immer laufen? Du hast eine Leidenschaft für gut strukturierte Softwareentwicklung? Dann bist du bei uns genau richtig. Wir bieten dir ein spannendes Arbeits- und Projektumfeld im Bereich Infrastruktur und Managed Services.</p>\\n<p><strong>Deine Aufgaben</strong></p>\\n<ul>\\n<li>Weiterentwicklung von Azure DevOps Build- und Release-Piplines</li>\\n<li>Anwender- und Applikationssupport und gezielte Fehleranalyse in Azure DevOps Piplines</li>\\n<li>Entwicklung von Scripten zur Bereitstellung neuer Komponenten, Konfiguration, Dokumentation im Rahmen einer Infrastructure-as-code Toolchain</li>\\n<li>Weiterentwicklung von eingesetzten Tools</li>\\n</ul>\\n<p><strong>Das bringst du mit</strong></p>\\n<ul>\\n<li>Du verfügst über ein abgeschlossenes Studium (Informatik, Wirtschaftsinformatik, Technische Informatik bzw. ähnliche Fachrichtungen) oder eine vergleichbare Ausbildung.</li>\\n<li>Du bringst Erfahrungen in den Bereichen von C# und .NET-Technologien oder anderen objektorientierten Programmiersprachen Sprachen mit.</li>\\n<li>Du hast gute Kenntnisse von Powershell optmimalerweise im Zusammenhang mit Azure</li>\\n<li>Du überzeugst durch Deine analytische und konzeptionelle Arbeitsweise.</li>\\n<li>Du bist teamfähig, engagiert und scheust dich nicht, Verantwortung zu übernehmen.</li>\\n<li>Du hast bereits mit Azure DevOps gearbeitet</li>\\n<li>Du weißt wie man Windows in einer Domaine einrichtet</li>\\n</ul>\\n<p><strong>Unser Angebot</strong></p>\\n<p>Wir sind ein nachhaltig engagiertes und stetig wachsendes Unternehmen mit über 120 Mitarbeitern an den Standorten in Flensburg, Hamburg und Kiel. Wir bieten Dir einen interessanten Arbeitsplatz mit innovativen Projekten in einer sehr dynamischen Branche sowie persönliche Entwicklungsmöglichkeiten, verbunden mit einer leistungsgerechten Vergütung, ergonomischen Arbeitsplätzen, betrieblicher Altersvorsorge, Betreuungsplätzen für Kinder etc. Wir befinden uns in Hamburg mitten in der Aufbau- und Strukturierungsphase, deshalb nutze die Chance aktiv unsere Zusammenarbeit mitzugestalten. Ein erfolgreiches und professionelles Team mit einem sehr angenehmen Arbeitsklima freut sich auf Deine Verstärkung. Und mittwochs gibt es Kuchen!</p>\\n<p><img src=\"https://camo.githubusercontent.com/e2f1d2369313826aeb6397f9dd70678bd7a66d7f/68747470733a2f2f742e676f686972696e672e636f6d2f682f36383139383634306631336164343430613437343764323265643330633230306661373638643261333330383130313362656535626637316133633438336631\"></p>\\n', 'how_to_apply': '<p><a href=\"https://t.gohiring.com/h/c3852980338d30cd47539a7b97643fd26aa001464dcad4630e63026e4de173fc\">application form</a></p>\\n', 'company_logo': 'https://jobs.github.com/rails/active_storage/blobs/eyJfcmFpbHMiOnsibWVzc2FnZSI6IkJBaHBBanFUIiwiZXhwIjpudWxsLCJwdXIiOiJibG9iX2lkIn19--b55b4a27aa6f6a2ee26310924bb0f3619abb7aef/MAC%20IT-Solutions%20GmbH.png'}, {'id': '3a7fe188-9ae3-462e-a730-9ff35633b4c1', 'type': 'Full Time', 'url': 'https://jobs.github.com/positions/3a7fe188-9ae3-462e-a730-9ff35633b4c1', 'created_at': 'Wed Dec 16 15:30:17 UTC 2020', 'company': 'InnoGames GmbH', 'company_url': 'https://www.innogames.com', 'location': 'Hamburg', 'title': 'Java Software Developer - Core Team', 'description': '<p>As <strong>Java Software Developer</strong>, you work closely with our game teams to shape the foundation of our next big hits and contribute as a productive member of an agile development team in all phases of the development lifecycle.</p>\\n<p><strong>Your mission:</strong></p>\\n<ul>\\n<li>Develop features shared across our game backends</li>\\n<li>Improve performance-critical components, increase the robustness and scalability of our software</li>\\n<li>Improve our libraries and backend services with your knowledge of software architecture and high-quality code</li>\\n<li>Maintain and extend our development tools and environment</li>\\n</ul>\\n<p><strong>Your profile:</strong></p>\\n<ul>\\n<li>Degree in Computer Sciences, Business Information Systems or equivalent training and experience as IT specialist</li>\\n<li>Several years of experience in object-oriented programming in Java with Spring Boot and optimally the Akka framework</li>\\n<li>Software development with Spring, the UNIX command line and profound knowledge of SQL, GIT, and Continuous Delivery</li>\\n<li>You love to dive deep into other people’s code which is reflected in your Github profile</li>\\n<li>Solid experience in using various methods in software design and a strong belief in automated testing to guarantee and improve code quality in compliance with the company standards</li>\\n<li>Being a backend geek, you also like to switch to the frontend side with Angular, C# and Unity</li>\\n<li>Good English language and overall communication skills</li>\\n<li>Proactive and motivated individual with a willingness to learn</li>\\n</ul>\\n<p><strong>Why join us?</strong></p>\\n<ul>\\n<li>Be part of a great international team in a healthy and stable-growing company</li>\\n<li>Your working device will be the latest MacBook Pro with high-end hardware</li>\\n<li>We actively support your further development and give you all the needed resources to evaluate new technologies and participate in open source communities</li>\\n<li>We provide additional training budget to spend on attending conferences, taking hard skill courses or improve your soft skills as well as purchasing books</li>\\n<li>Our career model is set up equally for an expert in a technical career or a management path</li>\\n<li>Use opportunities to make your code open source and show your achievements at international conferences</li>\\n<li>We offer competitive compensation with benefits like relocation support, company gym, smartphone or tablet, company bikes, rooftop terrace with BBQ and much more</li>\\n</ul>\\n<p>Excited to start your journey with InnoGames and join our dynamic team as a <strong>Java Software Developer</strong>? We look forward to receiving your application as well as your salary expectations and earliest possible start date through our <a href=\"https://www.innogames.com/career/detail/job/java-software-developer-core-team/?s=GitHub\">online application form</a>. <strong>Cristal Ledesma</strong> would be happy to answer any questions you may have.</p>\\n<p><strong>Apply and #stayhome!</strong> Due to the <strong>coronavirus</strong> outbreak, we switched our operations company-wide to home office and turned our hiring process into a <strong>fully virtual one</strong>. When hiring, we are also open for our new team members starting their work remotely at the time being or adjusting contract start dates accordingly. Stay home and safe!</p>\\n<p>InnoGames is Germany’s leading developer and publisher of mobile and online games. The company based in Hamburg is best known for Forge of Empires, Elvenar and Tribal Wars. InnoGames’ complete portfolio encompasses seven live games and several mobile titles in production.</p>\\n<p>Born as a hobby, InnoGames today has a team of 400 employees from more than 30 nations who share the passion of creating unique games that players across the globe enjoy for years. In order to further expand our success and to realize new projects, we are constantly looking for young talents, experienced professionals, and creative thinkers.</p>\\n', 'how_to_apply': '<p><a href=\"https://www.innogames.com/career/detail/job/java-software-developer-core-team/?s=GitHub\">https://www.innogames.com/career/detail/job/java-software-developer-core-team/?s=GitHub</a></p>\\n', 'company_logo': 'https://jobs.github.com/rails/active_storage/blobs/eyJfcmFpbHMiOnsibWVzc2FnZSI6IkJBaHBBdHlTIiwiZXhwIjpudWxsLCJwdXIiOiJibG9iX2lkIn19--42306dacd41e20d3353b62a9ea4311bdb72da047/logo_innogames_devlop.png'}, {'id': 'efe2509d-a7c0-4172-8e9a-f38fea2ff9ad', 'type': 'Full Time', 'url': 'https://jobs.github.com/positions/efe2509d-a7c0-4172-8e9a-f38fea2ff9ad', 'created_at': 'Mon Dec 14 20:54:25 UTC 2020', 'company': 'Spear Technologies', 'company_url': 'http://www.spear-tech.com', 'location': 'remote - must be located in US', 'title': 'Experienced Power Apps developer', 'description': '<p>Spear Technologies is an exciting new software company in the Insurance sector. Spear is looking for an experienced Power Apps developer to work on its core product.</p>\\n<p><a href=\"http://www.spear-tech.com\">www.spear-tech.com</a></p>\\n<p>Skills needed</p>\\n<ul>\\n<li>2 - 4+ years of experience building Enterprise-level solutions utilizing best practices within Model-Driven Power Apps</li>\\n<li>Solid understanding of the Power Platform components, including Power BI, Power Automate, Portals AI Builder and Virtual Agents</li>\\n<li>Experience developing PCF controls for Power Apps</li>\\n<li>Strong programming skills in C# and Javascript</li>\\n<li>Experience with PowerApps integration with Azure API Apps, Azure Logic apps, Azure Functions and REST services</li>\\n<li>Experience developing solutions that span multiple Office365 services (e.g., SharePoint, Outlook, Graph API, One Note, One Drive, etc.)</li>\\n<li>Experience working with the Agile methodology and self-starter who can thrive in a dynamic environment</li>\\n<li>Strong interpersonal and communications skills and ability to multi-task effectively between projects</li>\\n</ul>\\n<p>Degrees and Certifications</p>\\n<ul>\\n<li>\\n<p>B.S. in Computer Science, engineering, or related technical discipline (Extensive, directly applicable experience may substitute for the academic degree requirement)</p>\\n</li>\\n<li>\\n<p>Training and/or certification for PowerApps Professional or PowerApps Developer</p>\\n</li>\\n<li>\\n<p>Training and/or certification for Microsoft Flow/Power Automate</p>\\n</li>\\n</ul>\\n<p>Optional / Nice to have skills</p>\\n<ul>\\n<li>Experience using XRM Tools</li>\\n<li>JavaScript experience with XRM WebAPI</li>\\n<li>Experience working with Business Central</li>\\n<li>Knowledge of insurance claims</li>\\n<li>Datalakes / data warehousing</li>\\n<li>Paginated reports with PowerBI</li>\\n<li>Document Management experience in PowerApps</li>\\n<li>Azure Storage (Blobs)</li>\\n<li>PowerApps security configuration</li>\\n</ul>\\n<p>Benefits</p>\\n<ul>\\n<li>Competitive salary contingent on experience</li>\\n<li>Heathcare, Dental, Vision</li>\\n<li>Great PTO</li>\\n<li>Work remotely – no commute</li>\\n</ul>\\n', 'how_to_apply': '<p>Email your resume to Kate Taylor at <a href=\"mailto:ktaylor@spear-tech.com\">ktaylor@spear-tech.com</a></p>\\n', 'company_logo': None}, {'id': '6ad65ab4-197e-4d05-b709-7674d448b031', 'type': 'Full Time', 'url': 'https://jobs.github.com/positions/6ad65ab4-197e-4d05-b709-7674d448b031', 'created_at': 'Mon Dec 07 23:18:19 UTC 2020', 'company': 'MapLarge, Inc.', 'company_url': 'http://MapLarge.com', 'location': 'United States', 'title': 'Senior Software Architect / Engineer who enjoys coding web services in c#', 'description': '<p><strong>100% Remote:</strong> This role allows working remotely 100% of the time from anywhere in the US.  Workers must be authorized to work in the US (No Non US Applicants Please).</p>\\n<p><strong>What We Do</strong></p>\\n<p>The team at MapLarge builds cutting edge products for data analytics and visualization to make us safer, more productive, and more efficient.  The Maplarge API provides real time geospatial analytics for over 15 billion location events per day and trillions of historical events. Analysts using our geospatial visualization capability can instantly visualize and publish for data discovery and model testing on any desktop, mobile or tablet device.</p>\\n<p><strong>Who We Need</strong></p>\\n<p><strong>Cultural Fit</strong> - While we hire all kinds of people and invent roles to fit them, there are three key traits we require of every team member that really define our team.</p>\\n<p><strong>Fun to Work With</strong> - Life is short and work should be fun.\\n<strong>Extremely Smart</strong> - We work on cutting edge hard problems and we need people who can both architect and code these systems at the same time while working with a highly intelligent peer group.\\n<strong>Passionate Engineers</strong> - We need people who really love programming and exhibit the energy and creativity that comes from being fully engaged in what you do.</p>\\n<p><strong>Types of Roles &amp; Requirements</strong></p>\\n<p>We need talented people to help add cool new features to our platform.  Below are the general categories of tasks we are working on, but often people straddle multiple areas so take them more as the general \"gist\" of what you might do with us. We are looking for smart, hard working, fun people and we will invent the right role to fit them.  The key trait we are looking for is people who like to both architect/design and write the code for complex systems.</p>\\n<p><strong>(1) Client Side - Interactive Visuals:</strong> We maintain a JavaScript API for for interactive Data Visualization using our high performance web services. We need people both to help add new dynamic animated UI components and other features to the JS API. We also need people to build data driven visuals for our demo gallery if you are artistically or data analysis inclined. Enjoy working with Knockout, Angular, D3.js, HTML5? Check our our galleries to see the kind of stuff you will be working on <a href=\"http://maplarge.com/demos\">http://maplarge.com/demos</a></p>\\n<p>**(2) Full Stack Web Services - **Full stack developers who are comfortable working on both client and server side to produce high performance applications powered by scalable web services are the backbone of our team.  We run c# in both .net and mono server side and also maintain a flexible client side API with a large library of reusable components. We host and run large deployments that sometimes scale to thousands of computers for scientific/industrial/gov users and in a typical day process data over 15 billion records from 110 million streaming data sources.</p>\\n<p><strong>(3) Algorithm / Core Database Development -</strong>  We built our own in memory database and distributed data analytics pipeline from the ground up with funding from DARPA, and we have a team of really talented researchers working on Pattern analysis, Streaming analytics, Spatial queries and Network graph functions that power our visual engines. We are always looking for practical people who love writing highly optimized code that straddles the line between research and software development. We don\\'t usually publish scientific papers, but we are right out on the edge pulling algorithms out of the latest research papers finding really fast \"good enough\" approaches that let us tease interesting patterns out of data without getting lost in \"science experiment land\"</p>\\n<p><strong>Requirements:</strong></p>\\n<ul>\\n<li>US Person based anywhere in the US (100% remote allowed but no off shore)</li>\\n<li>5 Years work experience as a programmer</li>\\n<li>Highly Comfortable with C# and Visual Studio</li>\\n<li>Experienced with Web Development &amp; JavaScript</li>\\n</ul>\\n<p>MapLarge is committed to a diverse and inclusive workplace. MapLarge is an equal opportunity employer and does not discriminate on the basis of race, national origin, gender, gender identity, sexual orientation, protected veteran status, disability, age, or other legally protected status.</p>\\n', 'how_to_apply': '<p>Email your resume to <a href=\"mailto:jobs@maplarge.com\">jobs@maplarge.com</a></p>\\n', 'company_logo': 'https://jobs.github.com/rails/active_storage/blobs/eyJfcmFpbHMiOnsibWVzc2FnZSI6IkJBaHBBbW1TIiwiZXhwIjpudWxsLCJwdXIiOiJibG9iX2lkIn19--b3cad37dc980a8d5ba649d5004dde3ba226c47e0/maplargelogo23.png'}, {'id': '113e5b39-0d51-4010-8795-39e20be2f3f2', 'type': 'Full Time', 'url': 'https://jobs.github.com/positions/113e5b39-0d51-4010-8795-39e20be2f3f2', 'created_at': 'Mon Dec 07 23:09:22 UTC 2020', 'company': 'MapLarge', 'company_url': 'http://MapLarge.com', 'location': 'United States', 'title': 'Senior Full Stack .Net Web Application Developer', 'description': \"<p><strong>What We Do</strong></p>\\n<p>The team at MapLarge builds cutting edge products for data analytics and visualization to make the world safer, more productive, and more efficient for our millions of users and thousands of customers.  The Maplarge API provides real time geospatial analytics for billions of location events every day. Analysts using our geospatial visualization capability can instantly visualize and publish for data discovery and predictive model testing on any desktop, mobile or tablet device.</p>\\n<p><strong>Who We Need</strong></p>\\n<p><strong>Cultural Fit</strong> - While we hire all kinds of people and invent roles to fit them, there are three key traits we require of every team member that really define our team.</p>\\n<p><strong>Fun to Work With</strong> - Life is short and work should be fun.\\n<strong>Extremely Smart</strong> - We work on cutting edge hard problems and we need people who can both architect and code these systems at the same time while working with a highly intelligent peer group.\\n<strong>Passionate Engineers</strong> - We need people who really love programming and exhibit the energy and creativity that comes from being fully engaged in what you do.</p>\\n<p><strong>About the Role</strong></p>\\n<p>This role is for full stack .Net web developers who enjoy working with WebService API's in C# on the server side and creating sophisticated single page applications in TypeScript and JavaScript on the client side. In this role you will be helping to design and build the server and client side API's for MapLarge components that we combine into new interactive dashboards.    This job is for advanced programmers only and you do not have to have any design, css or other artistic skills.   Please be ready to tell us about any experience you have working with complex single page applications, designing C# web service API's and building reusable components with JavaScript or TypeScript.</p>\\n<p><strong>Requirements:</strong></p>\\n<ul>\\n<li>US Person based anywhere in the US (100% remote allowed but no off shore)</li>\\n<li>5 Years work experience as a programmer</li>\\n<li>Highly Comfortable with Typescript, C# and Visual Studio</li>\\n<li>Very Experienced with Web Development &amp; JavaScript</li>\\n</ul>\\n<p>MapLarge is committed to a diverse and inclusive workplace. MapLarge is an equal opportunity employer and does not discriminate on the basis of race, national origin, gender, gender identity, sexual orientation, protected veteran status, disability, age, or other legally protected status.</p>\\n<p><strong>About MapLarge</strong>\\nMapLarge provides Big Data Analytics and Visualization to make us safer, more productive, and more efficient.   Our platform powers high traffic website visualizations, data discovery, and business intelligence applications. These visualizations can be synchronized in a dashboard to quickly discover insights by simultaneously viewing a segment of the data in multiple forms including maps.</p>\\n\", 'how_to_apply': '<p>Email your resume to <a href=\"mailto:jobs@maplarge.com\">jobs@maplarge.com</a></p>\\n', 'company_logo': 'https://jobs.github.com/rails/active_storage/blobs/eyJfcmFpbHMiOnsibWVzc2FnZSI6IkJBaHBBbVdTIiwiZXhwIjpudWxsLCJwdXIiOiJibG9iX2lkIn19--143c4090b8589d66e821a0881d829a2a9e92db77/maplargelogo23.png'}, {'id': '4516e97f-bbb0-4773-a9ec-cc8051f2a6a7', 'type': 'Full Time', 'url': 'https://jobs.github.com/positions/4516e97f-bbb0-4773-a9ec-cc8051f2a6a7', 'created_at': 'Mon Dec 07 23:01:59 UTC 2020', 'company': 'MapLarge', 'company_url': 'https://maplarge.com', 'location': 'United States', 'title': 'Lead Application Developer / Technical Project Manager', 'description': \"<p><strong>100% Remote:</strong> This role allows working remotely 100% of the time from anywhere in the US.  Workers must be authorized to work in the US (No Non US Applicants Please).</p>\\n<p><strong>Who We Need:</strong> We are looking for experienced senior software developers to act as lead application developers helping to design and build applications for customers on top of the MapLarge product suite.  Applicants should have a strong history as a lead software developer (no non-technical project managers, please) and should be a top notch C# and JavaScript programmer. We are looking for sophisticated team members who are passionate about not only how UI is used, but also how the APIs, ontology, data structures, documentation, and examples come together to make both the UI components and technical APIs a pleasure for customers to use.</p>\\n<p><strong>Typical Tasks:</strong> Typical Tasks include both writing code and leading planning activities.  You will often be acting as the lead technical point of contact on customer engagements, running internal and external planning meetings, helping to wireframe user interfaces, creating specs for the public facing APIs that drive them, doing deep dive code reviews with developers, and writing code for key portions of the deployed application.</p>\\n<p><strong>Skills:</strong> While we hire all kinds of people and invent roles to fit them, these are the key traits we prefer for this role:</p>\\n<p><strong>Smart &amp; High Energy Engineer</strong> - We work at a very fast pace on cutting edge hard problems and we need people who can keep up.   We need people who really love producing results for customers and who enjoy programming and exhibit the energy and creativity that comes from being fully engaged in the technical side of what we do.</p>\\n<p><strong>Strong Software Development background</strong> - This job is definitely NOT for non technical project managers. Recent, hands-on experience coding both server side (C#) and client side (JavaScript) are strongly suggested, and 5+ years work experience as a professional programmer is required.</p>\\n<p><strong>Experience Wireframing UI &amp; Designing APIs</strong> - You do not have to have strong artistic skills, but you should be comfortable not only spec-ing out UI wireframes but also designing the supporting technical web service API’s and/or client side component API’s.</p>\\n<p><strong>Technical Project Management:</strong>  You should be highly organized with a strong history in either technical project management or as the lead developer for complex software development projects.\\nCustomer Facing: comfortable meeting with sophisticated customers and managing expectations on large high value projects.</p>\\n<p>MapLarge is committed to a diverse and inclusive workplace. MapLarge is an equal opportunity employer and does not discriminate on the basis of race, national origin, gender, gender identity, sexual orientation, protected veteran status, disability, age, or other legally protected status.</p>\\n<p><strong>About MapLarge:</strong></p>\\n<p><strong>Real World Impact:</strong> At MapLarge we’re passionate about building software that solves some of the world’s hardest and most interesting problems across dozens of industries. We partner with the largest and most sophisticated institutions in the world to improve the lives of their users and customers with clever use of data and technology. Our products have been used to keep the world safe, improve global healthcare outcomes, deliver billions of packages on time, keep every plane in the sky safe and fuel efficient, improve navigation and safety for every boat in the ocean in real-time and more. If these types of projects excite you, we'd love for you to join us.</p>\\n<p><strong>High Value Innovative Enterprise Products &amp; Solutions:</strong> MapLarge products provide an enterprise focused platform for geospatial analytics and visualization. Our solution teams develop integrated solutions on top of our products across multiple different industry verticals and use cases - all focused on large enterprise and government agencies. If you enjoy working with sophisticated teammates, to build cutting edge solutions for high value customers that appreciate innovative solutions, then MapLarge is the place for you.</p>\\n\", 'how_to_apply': '<p>Email your resume to <a href=\"mailto:jobs@maplarge.com\">jobs@maplarge.com</a></p>\\n', 'company_logo': 'https://jobs.github.com/rails/active_storage/blobs/eyJfcmFpbHMiOnsibWVzc2FnZSI6IkJBaHBBbUdTIiwiZXhwIjpudWxsLCJwdXIiOiJibG9iX2lkIn19--5e3574f822a422e5d9a30ae019947e63a42d08d4/maplargelogo23.png'}, {'id': '24a037f5-0fc6-45f2-8288-90ee484d741c', 'type': 'Full Time', 'url': 'https://jobs.github.com/positions/24a037f5-0fc6-45f2-8288-90ee484d741c', 'created_at': 'Thu Dec 03 14:37:02 UTC 2020', 'company': 'Amazon Web Services AWS', 'company_url': 'https://aws.amazon.com/de/', 'location': 'Aachen', 'title': 'Sr. Software Development Engineer - AWS', 'description': '<p>Join us to create a new team for a new AWS service!\\nWe bring the power of Machine Learning (ML) to new application fields. With products such as Amazon Transcribe, Amazon Rekognition and Amazon Sagemaker, we are setting the standard for high-performance, easy-to-use and cost-effective ML services. Our team expands this portfolio to new applications and industries.</p>\\n<p>As a Senior Software Development Engineer, you will play a key role in building a new team and leading it into uncharted territory. The team will be responsible for designing, developing, testing, and deploying distributed machine learning systems and large-scale solutions for our world-wide customer base. You will collaborate closely with a team of ML scientists to influence our overall strategy and define the team’s road map. You will also drive the system architecture, spearhead best practices that enable a quality product, and help coach and develop junior engineers. A successful candidate will have an established background in engineering distributed software systems, a strong technical ability, great communication skills, and a motivation to achieve results in a fast paced environment.</p>\\n<p>BASIC QUALIFICATIONS</p>\\n<ul>\\n<li>Bachelor of Science (BS) in Computer Science, Electrical Engineering or similar</li>\\n<li>10+ years of industry experience with at least some experience as team lead or architect</li>\\n<li>Extensive experience in distributed systems</li>\\n<li>Strong programming skills in at least one object-oriented language (such as C++, C#, Java, etc.)</li>\\n<li>Mastery of the tools of the trade (e.g. experience with Linux, software development environments (SDEs), modern programming languages and open-source technologies)</li>\\n<li>Experience in design for scalability, performance and reliability</li>\\n<li>Sharp analytical abilities and proven design skills</li>\\n<li>Strong sense of ownership, customer obsession, and drive to make systems work end-to-end</li>\\n</ul>\\n<p>PREFERRED QUALIFICATIONS</p>\\n<ul>\\n<li>Advanced degree such as Master of Science (MS), or PhD</li>\\n<li>Experience in Internet of Things (IoT) system development, including IoT frameworks, embedded software, cloud development, web development, communication protocols, embedded Linux</li>\\n<li>Excellence in technical communication with peers and non-technical cohorts</li>\\n<li>Demonstrated ability to achieve stretch goals in a highly innovative and fast paced environment</li>\\n</ul>\\n<p>Amazon is an equal opportunities employer. We believe passionately that employing a diverse workforce is central to our success. We value your passion to discover, invent, simplify and build. Our salaries are\\nnegotiable.</p>\\n<p>Explore all AWS Germany Senior Software Engineering roles available, meet our team members and get prepared for your interviews via link: <a href=\"https://awsseniorsoftwaregermany.splashthat.com/\">https://awsseniorsoftwaregermany.splashthat.com/</a></p>\\n', 'how_to_apply': '<p><a href=\"https://ad.doubleclick.net/ddm/clk/436616238;288625354;r?https://www.amazon.jobs/en/jobs/1160827/sr-software-development-engineer-aws?cmpid=JBOTAW6339B&amp;utm_source=github.com&amp;utm_campaign=aws&amp;utm_medium=job_board&amp;utm_content=job_posting&amp;ss=paid\">https://ad.doubleclick.net/ddm/clk/436616238;288625354;r?https://www.amazon.jobs/en/jobs/1160827/sr-software-development-engineer-aws?cmpid=JBOTAW6339B&amp;utm_source=github.com&amp;utm_campaign=aws&amp;utm_medium=job_board&amp;utm_content=job_posting&amp;ss=paid</a></p>\\n', 'company_logo': 'https://jobs.github.com/rails/active_storage/blobs/eyJfcmFpbHMiOnsibWVzc2FnZSI6IkJBaHBBdmlSIiwiZXhwIjpudWxsLCJwdXIiOiJibG9iX2lkIn19--b0cc2f575f05b42525f2b5655e8e3df6e93e4722/aws.jpg'}, {'id': '3fc15bd7-3217-4526-a805-2a48364c5a11', 'type': 'Full Time', 'url': 'https://jobs.github.com/positions/3fc15bd7-3217-4526-a805-2a48364c5a11', 'created_at': 'Wed Dec 02 14:48:39 UTC 2020', 'company': 'Shell Business operations, Bangalore', 'company_url': 'https://vonq.io/3og0XUt', 'location': 'Bangalore', 'title': 'Full Stack Engineer', 'description': '<h2>Job Description:</h2>\\n<p>An exciting opportunity to work at the new Engineering organization in Shell IT. We are looking for a talented Full Stack Developer with great interpersonal skills to join our team. Shell’s business has been built on a foundation of innovative technology and skilled people. By providing energy to sustain people’s lives over 125 years, Shell is one of the world’s leading companies. IT Engineering gives you an opportunity to make an impact that matters – be it in complex predictive maintenance and inventory management solutions to optimize uptime of our Upstream assets or innovative solutions that satisfy customers at one of our 49,000 branded service stations, the world’s largest retail network.</p>\\n<p>Your growth is our future in IT Engineering. Information technology supports all aspects of our businesses and we have some of the world’s most complex problems to solve. You will not only get an opportunity to work with the latest technology, but with the scale of Shell, you will also get the opportunity to shape future digital technology working with the biggest players in the technology industry. With open source a key tenet of our technology choices, you will also get the opportunity to contribute back to the software community. The diversity of positions on offer are bound to help you grow in your career.</p>\\n<p>Working with other computer scientists and software engineers in Shell, IT Engineering offers a unique opportunity for you to make an impact across a complex integrated energy value chain serving all lines of business in the Group. You could be creating new customer services in the largest Lubricants business globally, or innovating ways to grow an Aviation business which refuels five aircrafts every minute. With Shell investing significantly in renewables, there will be several opportunities to power our green engine too.</p>\\n<p>IT Engineering drives business value through providing world class technical, functional and consulting expertise to deliver the right skills, at the right time, in the right place. In IT Engineering you will have opportunities to work on IT projects, programmes and products across the value chain of Shell. Our technical career paths will support your personal development through learning and certifications. We are the home of technical talent where you can grow your career, develop leading edge skills and deepen your business knowledge. Comprising of six capability centres, we bring together natural sets of skills at scale, providing our customers with size and depth in terms of business and platform knowledge. The capability centres promote continuous improvement of functional excellence, giving you the methods, standards, best practices, platforms, tools and external insights to support and accelerate your capability development. Our communities of practice provide access to expertise and learning, where your skills and passion for innovation and excellence will thrive.</p>\\n<p>You are expected to be a seasoned software engineer having proven software engineering credentials delivering software products/applications generating business value. You are expected to be driven towards building quality software at pace. You would need to have a continuous improvement mindset, driving value-based process, product/application optimization.</p>\\n<p>We’re looking to hone full stack developers with the ability to tackle complex problem areas in terms of people, industry and scenario. You should be able to plan, manage and execute a course of work, be highly independent, confident in your abilities and flexible enough to adapt to a fluid project landscape.</p>\\n<p>You will be working closely with product owners and designers so strong knowledge of product and design will be helpful.</p>\\n<h2>Key Accountabilities:</h2>\\n<ul>\\n<li>Solution consultation and development in accordance to the enterprise technology principles, methods, standards, and practices.</li>\\n<li>Estimation, solution design, detailed technical design, application technical deliverables including code, associated tests and documentation.</li>\\n<li>Contribution to functional excellence in terms of definition and maintenance of standards, methods and tools, bringing in best practices from market standard implementations.</li>\\n<li>Manage complex integration scenarios and interfaces between on-premise solutions, cloud and legacy systems.</li>\\n</ul>\\n<h2>Skills &amp; Requirements:</h2>\\n<ul>\\n<li>Looking to invite passionate developers with varying software development experience ranging from 5 years to very senior profiles with 20 years’ experience, with a relevant Full Stack profile (experience in front-end, back-end, cloud automation and orchestration)</li>\\n<li>Must have strong foundation in one or more of C#, Python or Java Script</li>\\n<li>Proficient in Functional &amp; Object-Oriented Programming, Design Patterns with expertise in one or more of the Cloud-Native technologies (C#, Python, .NET Core, Web API, PostgreSQL, HTML5, CSS3, Golang, React.js, Node.js, Graph QL, etc).</li>\\n<li>Thorough understanding of containers and functions. Deployment experience with Kubernetes (K8s) or Functions is a plus.</li>\\n<li>Highly desirable to have experience deploying workloads to Azure or AWS with strong knowledge and understanding of the cloud provider’s API / associated services and infrastructure and configuration as code frameworks (Terraform &amp; Ansible)</li>\\n<li>Experience using Cloud Native CI/CD tools (Azure Pipelines/Circle CI/Jenkins X) is highly desirable.</li>\\n<li>Knowledge of other Cloud (Amazon Web Services, Cloudera etc), and Integration (BizTalk, Logic Apps, MuleSoft etc) technologies is highly desirable.</li>\\n<li>Demonstrated ability of design and development of applications/ products utilizing a variety of architecture principles, including microservices architecture.</li>\\n<li>Demonstrated application of the best practices in various stages of the software development life cycle.</li>\\n<li>Experience working in agile teams with demonstrated application of the principles.</li>\\n</ul>\\n<p><a href=\"https://vonq.io/3og0XUt\">Click here for the application form!</a></p>\\n', 'how_to_apply': '<p><a href=\"https://vonq.io/3og0XUt\">Click here for the application form!</a></p>\\n', 'company_logo': 'https://jobs.github.com/rails/active_storage/blobs/eyJfcmFpbHMiOnsibWVzc2FnZSI6IkJBaHBBcmlSIiwiZXhwIjpudWxsLCJwdXIiOiJibG9iX2lkIn19--197f3dd2f255149c662baa1521dbbec48856d52c/Shell%20logo.jpg'}, {'id': '045efb98-2e50-41dc-971a-1ea9a90a3ddc', 'type': 'Full Time', 'url': 'https://jobs.github.com/positions/045efb98-2e50-41dc-971a-1ea9a90a3ddc', 'created_at': 'Tue Dec 01 13:25:26 UTC 2020', 'company': 'Exact', 'company_url': 'http:', 'location': 'Delft', 'title': 'Senior Software Engineer .NET', 'description': '<p>As a Senior Software Engineer .NET, you’ll be working on developing business software, running in the cloud based on the strategic direction and innovation. Furthermore, you work with product managers, architects, user experience designers, data scientists and devops engineers to continuously improve our products. Depending on your experience, you will also be a coach for people in the team.</p>\\n<h2>Our environment</h2>\\n<p>We are convinced that teamwork, helping others, sharing knowledge and a positive, curious mindset make the difference and allows us and you to be successful in order to deliver the solutions that our customers need. Exact combines the energy of a startup with the benefits of a multinational. We continuously strive for innovation - technical as well as personal. Each and every day we challenge ourselves and each other to be better than the day before. For us, there is never a dull moment.</p>\\n<p>Exact has an open and welcoming culture in which anybody can have impact. We value ideas by their merit, not by their source. New opinions, people and principles keep our minds flexible while we stay committed to our mission of empowering SMEs to be the driving force of the global economy by using our smart accounting and ERP software and have latest insight to run their business in the best way possible.</p>\\n<p>Are you an experienced software engineer with a proven knowledge of the Microsoft technology stack, cloud software architecture, patterns and practices? Do you love working the agile way and do you want to work in an energetic, international environment? Then join our development team in Delft.</p>\\n<h2>Wat wij van jou verwachten</h2>\\n<ul>\\n<li>Experience working with any or all of the following: Microsoft .NET (C#/VB.NET, Webforms, MVC), SQL Server, Azure, AWS, Azure functions, REST, JavaScript, jQuery, JSON and XML. Azure DevOps, CI/CD.</li>\\n<li>A bachelor\\'s degree, post graduate diploma, professional degree or equivalent level in computer science or information technology</li>\\n<li>Good communication skills (fluency in English, both verbally and written)</li>\\n<li>Pro activeness and perfectly able to cope with working from home as well.</li>\\n</ul>\\n<h2>Wat je van ons kan verwachten</h2>\\n<ul>\\n<li>Over 1400 colleagues worldwide, with over 160 technology colleagues in our Delft HQ and another 250 in our Kuala Lumpur development center (since 1998).</li>\\n<li>You’ll work predominantly from home for the time being, but we do have a modern HQ, our Delft office. It’s is a popular corona-proof meeting hub where you’re encouraged to meet with your colleagues safely if the situation allows it.</li>\\n<li>Events such as a global hackathon and Tech Talks to develop and showcase your skills</li>\\n<li>Useful training sessions via our learning and development center that help you to fulfill your career potential.</li>\\n<li>Unlimited access to LinkedIn Learning</li>\\n<li>A competitive package, depending on your experience</li>\\n</ul>\\n<h2>Wie wij zijn</h2>\\n<p>Exact combines the energy of a startup with the benefits of a multinational. We think actions speak louder than words and continuously strive for innovation; technical as well as personal. Each day again, we challenge ourselves and each other to be better than the day before. There’s never a dull moment at Exact.</p>\\n<p>Exact has an open and welcoming culture in which anybody can have impact. We value ideas by their merit, not by their source. New opinions, people and principles keep our minds flexible, while we stay committed to our mission of empowering SME’s to be the driving force of the global economy.</p>\\n<p><a href=\"https://vonq.io/3q3goRv\">Click here for the application form!</a>.</p>\\n<p>You\\'ll be hearing from us soon.</p>\\n', 'how_to_apply': '<p><a href=\"https://vonq.io/3q3goRv\">Click here for the application form!</a></p>\\n', 'company_logo': 'https://jobs.github.com/rails/active_storage/blobs/eyJfcmFpbHMiOnsibWVzc2FnZSI6IkJBaHBBbitSIiwiZXhwIjpudWxsLCJwdXIiOiJibG9iX2lkIn19--f8f8b1c2b40cd683505db6cf57a37e58a7a6fa98/Exact.jpeg'}, {'id': 'aa5a4c42-7a7a-4513-9de6-a0daeba36d87', 'type': 'Full Time', 'url': 'https://jobs.github.com/positions/aa5a4c42-7a7a-4513-9de6-a0daeba36d87', 'created_at': 'Mon Nov 30 12:07:01 UTC 2020', 'company': 'Microsoft', 'company_url': 'https://www.microsoft.com/en-ie/futurenavigators', 'location': 'Dublin, Ireland', 'title': 'Microsoft Software Engineer. Dublin, Ireland.', 'description': '<p>About This Role:</p>\\n<p>Microsoft engineers inspire, empower and lead. As an engineer at Microsoft Ireland, you can develop solutions used by hundreds of millions of people around the world. With teams working on Microsoft 365, Azure, Modern Workplace Transformation Solutions, Identity and Natural Language Experiences, there is no limit to what you can achieve</p>\\n<p>We are recruiting Software Engineers for teams across the organisation. Successful candidates must have an inquisitive, can-do mindset.The ability to break barriers, challenge the status quo, and build connections across organizations is crucial.</p>\\n<p>If you want to build best-in-class solutions using robust coding practices and the latest tech in a fast-paced DevOps environment, apply today.</p>\\n<p>Responsibilities:</p>\\n<ul>\\n<li>Design and deliver the next generation of highly scalable, intelligent cloud services and products.</li>\\n<li>Build and support modern web applications and large-scale distributed services.</li>\\n<li>Produce high quality code that is unit tested, code reviewed, and checked regularly for continuous integration.</li>\\n<li>Collaborate with colleagues including product owners, UX designers, ML Engineers/Researchers, data scientists and other engineers to create delightful and meaningful experiences for our customers.</li>\\n<li>Evangelize and/or propose new ideas while \"bringing others along”.</li>\\n<li>Demonstrate a sense of pride, ownership, and personal accountability for end-to-end products.</li>\\n<li>Learn continuously and work comfortably with the latest technologies (serverless, containerized apps, AI/ML, IoT, .NET Core, etc.) in Microsoft.\\u202f</li>\\n</ul>\\n<p>Job Requirements:</p>\\n<p>Basic Requirements:</p>\\n<ul>\\n<li>At least 5 years of experience as a software engineer or as a software developer</li>\\n<li>3 years\\' minimum software development experience using OOP languages (C#, C++, Java, etc.)</li>\\n<li>2 years\\' minimum experience working with cloud computing platforms like Azure, AWS, or similar</li>\\n<li>Experience with distributed systems design and implementation, especially microservices architecture</li>\\n<li>Software engineering fundamentals (data structures, algorithms, async programming patterns, object-oriented design, parallel programming).</li>\\n</ul>\\n<p>Preferred Qualifications:</p>\\n<ul>\\n<li>Experience with TypeScript or JavaScript or React or Angular;</li>\\n<li>A minimum of a bachelor’s degree in Computer Science, Engineering or a related field, or equivalent alternative education, skills, and/or practical experience is required.</li>\\n<li>Machine Learning or Deep Learning experience would be a bonus but not required. After all, we believe in learning and growing on the job.</li>\\n</ul>\\n<p>About you</p>\\n<p>Are you customer obsessed? Do you think about your customer’s needs and the scenarios they will arise in? Do you demonstrate user empathy and seek to create solutions that delight your customers?</p>\\n<p>Are you passionate about learning and applying the latest technologies while building high-quality web applications, APIs and microservices with high availability and reliability?</p>\\n<p>If this all sounds like you, you’re exactly the kind of candidate we’re looking for. Apply today.</p>\\n<p>About Microsoft Engineering</p>\\n<p>At Microsoft Engineer you can have impact at scale. we embrace the Growth Mindset to deliver impactful solutions for our customers. Collaboration, innovation and customer obsession are central to our culture. This environment inspires better solutions for our customers, partners and ultimately the world.</p>\\n<p>Benefits</p>\\n<ul>\\n<li>Industry leading healthcare</li>\\n<li>Savings and investments</li>\\n<li>Generous annual leave</li>\\n<li>Maternity and paternity leave</li>\\n<li>Opportunities to network and connect</li>\\n<li>Discounts on products and services</li>\\n<li>Giving programs</li>\\n<li>Educational resources</li>\\n</ul>\\n<p>Benefits/perks listed may vary depending on the nature of your employment with Microsoft and the country where you work.</p>\\n<p>Equal Opportunities</p>\\n<p>Microsoft is an equal opportunity employer. All qualified applicants will receive consideration for employment without regard to age, ancestry, colour, family or medical care leave, gender identity or expression, genetic information, marital status, medical condition, national origin, physical or mental disability, political affiliation, protected veteran status, race, religion, sex (including pregnancy), sexual orientation, or any other characteristic protected by applicable laws, regulations and ordinances.</p>\\n', 'how_to_apply': '<p>For more information and to apply, visit <a href=\"https://www.microsoft.com/en-ie/futurenavigators\">https://www.microsoft.com/en-ie/futurenavigators</a></p>\\n', 'company_logo': 'https://jobs.github.com/rails/active_storage/blobs/eyJfcmFpbHMiOnsibWVzc2FnZSI6IkJBaHBBbE9SIiwiZXhwIjpudWxsLCJwdXIiOiJibG9iX2lkIn19--d00c59bdddb26215f09bc6a5499ceb35b6306594/MSFT_logo_rgb_C-Gray_200x200%5B2%5D.jpg'}]\n"
          ],
          "name": "stdout"
        }
      ]
    },
    {
      "cell_type": "markdown",
      "metadata": {
        "id": "ureS5bJGUzrJ"
      },
      "source": [
        "Write a function to get the number of jobs for the given technology.<br>\n",
        "_Note:_ The API gives a maximum of 50 jobs per page.<br>\n",
        "If you get 50 jobs per page, it means there could be some more job listings available.<br>\n",
        "So if you get 50 jobs per page you should make another API call for next page to check for more jobs.<br>\n",
        "If you get less than 50 jobs per page, you can take it as the final count.<br>\n"
      ]
    },
    {
      "cell_type": "code",
      "metadata": {
        "id": "pPNSWbTTUzrN"
      },
      "source": [
        "def get_number_of_jobs(technology):\n",
        "    number_of_jobs = 0\n",
        "    #your code goes here\n",
        "    api_url = ''\n",
        "    tmp=0\n",
        "    page=0\n",
        "    flag = True\n",
        "    while(flag):\n",
        "        print('   get_number_of_jobs [ page = '+str(page+1)+']')\n",
        "        api_url = 'https://jobs.github.com/positions.json?description='+requests.utils.quote(technology)+'&page='+str(page)+''\n",
        "        response = requests.get(api_url)\n",
        "        if response.ok:     # if all is well() no errors, no network timeouts)\n",
        "            data = response.json()\n",
        "            tmp = len(data)\n",
        "            number_of_jobs += tmp\n",
        "            page += 1\n",
        "            if tmp < 50 :\n",
        "                flag=False\n",
        "        else:\n",
        "          flag = False\n",
        "  \n",
        "    return [technology,number_of_jobs]"
      ],
      "execution_count": 66,
      "outputs": []
    },
    {
      "cell_type": "markdown",
      "metadata": {
        "id": "J1BZ8YS9UzrQ"
      },
      "source": [
        "### Call the function for Python and check if it is working.\n"
      ]
    },
    {
      "cell_type": "code",
      "metadata": {
        "colab": {
          "base_uri": "https://localhost:8080/"
        },
        "id": "64cB0n-kUzrV",
        "outputId": "f3dea292-9936-4b88-d7ed-55bc9f4fd03a"
      },
      "source": [
        "print(get_number_of_jobs('C#'))"
      ],
      "execution_count": 67,
      "outputs": [
        {
          "output_type": "stream",
          "text": [
            "   get_number_of_jobs [ page = 1]\n",
            "['C#', 12]\n"
          ],
          "name": "stdout"
        }
      ]
    },
    {
      "cell_type": "markdown",
      "metadata": {
        "id": "_bF-06YoUzrZ"
      },
      "source": [
        "### Store the results in an excel file\n"
      ]
    },
    {
      "cell_type": "markdown",
      "metadata": {
        "id": "hb0NrUcOUzrb"
      },
      "source": [
        "Call the API for all the given technologies above and write the results in an excel spreadsheet.\n"
      ]
    },
    {
      "cell_type": "markdown",
      "metadata": {
        "id": "tAWCugrkUzrd"
      },
      "source": [
        "If you do not know how create excel file using python, double click here for **hints**.\n",
        "\n",
        "<!--\n",
        "\n",
        "from openpyxl import Workbook        # import Workbook class from module openpyxl\n",
        "wb=Workbook()                        # create a workbook object\n",
        "ws=wb.active                         # use the active worksheet\n",
        "ws.append(['Country','Continent'])   # add a row with two columns 'Country' and 'Continent'\n",
        "ws.append(['Eygpt','Africa'])        # add a row with two columns 'Egypt' and 'Africa'\n",
        "ws.append(['India','Asia'])          # add another row\n",
        "ws.append(['France','Europe'])       # add another row\n",
        "wb.save(\"countries.xlsx\")            # save the workbook into a file called countries.xlsx\n",
        "\n",
        "\n",
        "-->\n"
      ]
    },
    {
      "cell_type": "markdown",
      "metadata": {
        "id": "QJJKcnssUzrf"
      },
      "source": [
        "Create a python list of all technologies for which you need to find the number of jobs postings.\n"
      ]
    },
    {
      "cell_type": "code",
      "metadata": {
        "id": "lt9ZDvneUzrh"
      },
      "source": [
        "#your code goes here\r\n",
        "technologies =[\r\n",
        "    'C',\r\n",
        "    'C#',\r\n",
        "    'C++',\r\n",
        "    'Java',\r\n",
        "    'JavaScript',\r\n",
        "    'Python',\r\n",
        "    'Scala',\r\n",
        "    'Oracle',\r\n",
        "    'SQL Server',\r\n",
        "    'MySQL Server',\r\n",
        "    'PostgreSQL',\r\n",
        "    'MongoDB',\r\n",
        "]"
      ],
      "execution_count": 68,
      "outputs": []
    },
    {
      "cell_type": "markdown",
      "metadata": {
        "id": "aff6ZBFYUzrj"
      },
      "source": [
        "Import libraries required to create excel spreadsheet\n"
      ]
    },
    {
      "cell_type": "code",
      "metadata": {
        "id": "NQNNskrfUzrl"
      },
      "source": [
        "# your code goes here\r\n",
        "from openpyxl import Workbook        # import Workbook class from module openpyxl"
      ],
      "execution_count": 27,
      "outputs": []
    },
    {
      "cell_type": "markdown",
      "metadata": {
        "id": "GPX55JnUUzrn"
      },
      "source": [
        "Create a workbook and select the active worksheet\n"
      ]
    },
    {
      "cell_type": "code",
      "metadata": {
        "id": "pdF-5hFUUzrr"
      },
      "source": [
        "# your code goes here\r\n",
        "\r\n",
        "wb=Workbook()                        # create a workbook object\r\n",
        "ws=wb.active                         # use the active worksheet"
      ],
      "execution_count": 28,
      "outputs": []
    },
    {
      "cell_type": "markdown",
      "metadata": {
        "id": "56WhPEWcUzrt"
      },
      "source": [
        "Find the number of jobs postings for each of the technology in the above list.\n",
        "Write the technology name and the number of jobs postings into the excel spreadsheet.\n"
      ]
    },
    {
      "cell_type": "code",
      "metadata": {
        "colab": {
          "base_uri": "https://localhost:8080/"
        },
        "id": "cueftTgDUzrv",
        "outputId": "9878cd9a-a26b-4067-ed10-80832612377e"
      },
      "source": [
        "#your code goes here\r\n",
        "for technology in technologies :\r\n",
        "    print('Processing technology : '+technology+' ...')\r\n",
        "    ws.append(get_number_of_jobs(technology))   # add a row \r\n",
        "    print('Process technology : '+technology+'[Ok]')"
      ],
      "execution_count": 69,
      "outputs": [
        {
          "output_type": "stream",
          "text": [
            "Processing technology : C ...\n",
            "   get_number_of_jobs [ page = 1]\n",
            "   get_number_of_jobs [ page = 2]\n",
            "   get_number_of_jobs [ page = 3]\n",
            "   get_number_of_jobs [ page = 4]\n",
            "Process technology : C[Ok]\n",
            "Processing technology : C# ...\n",
            "   get_number_of_jobs [ page = 1]\n",
            "Process technology : C#[Ok]\n",
            "Processing technology : C++ ...\n",
            "   get_number_of_jobs [ page = 1]\n",
            "Process technology : C++[Ok]\n",
            "Processing technology : Java ...\n",
            "   get_number_of_jobs [ page = 1]\n",
            "   get_number_of_jobs [ page = 2]\n",
            "   get_number_of_jobs [ page = 3]\n",
            "Process technology : Java[Ok]\n",
            "Processing technology : JavaScript ...\n",
            "   get_number_of_jobs [ page = 1]\n",
            "Process technology : JavaScript[Ok]\n",
            "Processing technology : Python ...\n",
            "   get_number_of_jobs [ page = 1]\n",
            "Process technology : Python[Ok]\n",
            "Processing technology : Scala ...\n",
            "   get_number_of_jobs [ page = 1]\n",
            "Process technology : Scala[Ok]\n",
            "Processing technology : Oracle ...\n",
            "   get_number_of_jobs [ page = 1]\n",
            "Process technology : Oracle[Ok]\n",
            "Processing technology : SQL Server ...\n",
            "   get_number_of_jobs [ page = 1]\n",
            "Process technology : SQL Server[Ok]\n",
            "Processing technology : MySQL Server ...\n",
            "   get_number_of_jobs [ page = 1]\n",
            "Process technology : MySQL Server[Ok]\n",
            "Processing technology : PostgreSQL ...\n",
            "   get_number_of_jobs [ page = 1]\n",
            "Process technology : PostgreSQL[Ok]\n",
            "Processing technology : MongoDB ...\n",
            "   get_number_of_jobs [ page = 1]\n",
            "Process technology : MongoDB[Ok]\n"
          ],
          "name": "stdout"
        }
      ]
    },
    {
      "cell_type": "markdown",
      "metadata": {
        "id": "AM6Y94Z-Uzrx"
      },
      "source": [
        "Save into an excel spreadsheet named 'github-job-postings.xlsx'.\n"
      ]
    },
    {
      "cell_type": "code",
      "metadata": {
        "id": "z0eE8zd6Uzr1"
      },
      "source": [
        "#your code goes here\r\n",
        "wb.save(\"github-job-postings.xlsx\")            # save the workbook into a file called countries.xlsx"
      ],
      "execution_count": 70,
      "outputs": []
    },
    {
      "cell_type": "markdown",
      "metadata": {
        "id": "ynMLDRbPUzr3"
      },
      "source": [
        "## Authors\n"
      ]
    },
    {
      "cell_type": "markdown",
      "metadata": {
        "id": "q52FxDVSUzr5"
      },
      "source": [
        "Ramesh Sannareddy\n"
      ]
    },
    {
      "cell_type": "markdown",
      "metadata": {
        "id": "L8G1dtY0Uzr_"
      },
      "source": [
        "### Other Contributors\n"
      ]
    },
    {
      "cell_type": "markdown",
      "metadata": {
        "id": "eyiKIl7yUzsG"
      },
      "source": [
        "Rav Ahuja\n"
      ]
    },
    {
      "cell_type": "markdown",
      "metadata": {
        "id": "5_VnJwTSUzsL"
      },
      "source": [
        "## Change Log\n"
      ]
    },
    {
      "cell_type": "markdown",
      "metadata": {
        "id": "H0BIsGk6UzsO"
      },
      "source": [
        "| Date (YYYY-MM-DD) | Version | Changed By        | Change Description                 |\n",
        "| ----------------- | ------- | ----------------- | ---------------------------------- |\n",
        "| 2020-10-17        | 0.1     | Ramesh Sannareddy | Created initial version of the lab |\n"
      ]
    },
    {
      "cell_type": "markdown",
      "metadata": {
        "id": "NvBWkh6uUzsS"
      },
      "source": [
        " Copyright © 2020 IBM Corporation. This notebook and its source code are released under the terms of the [MIT License](https://cognitiveclass.ai/mit-license?cm_mmc=Email_Newsletter-_-Developer_Ed%2BTech-_-WW_WW-_-SkillsNetwork-Courses-IBM-DA0321EN-SkillsNetwork-21426264&cm_mmca1=000026UJ&cm_mmca2=10006555&cm_mmca3=M12345678&cvosrc=email.Newsletter.M12345678&cvo_campaign=000026UJ&cm_mmc=Email_Newsletter-_-Developer_Ed%2BTech-_-WW_WW-_-SkillsNetwork-Courses-IBM-DA0321EN-SkillsNetwork-21426264&cm_mmca1=000026UJ&cm_mmca2=10006555&cm_mmca3=M12345678&cvosrc=email.Newsletter.M12345678&cvo_campaign=000026UJ&cm_mmc=Email_Newsletter-_-Developer_Ed%2BTech-_-WW_WW-_-SkillsNetwork-Courses-IBM-DA0321EN-SkillsNetwork-21426264&cm_mmca1=000026UJ&cm_mmca2=10006555&cm_mmca3=M12345678&cvosrc=email.Newsletter.M12345678&cvo_campaign=000026UJ&cm_mmc=Email_Newsletter-_-Developer_Ed%2BTech-_-WW_WW-_-SkillsNetwork-Courses-IBM-DA0321EN-SkillsNetwork-21426264&cm_mmca1=000026UJ&cm_mmca2=10006555&cm_mmca3=M12345678&cvosrc=email.Newsletter.M12345678&cvo_campaign=000026UJ&cm_mmc=Email_Newsletter-_-Developer_Ed%2BTech-_-WW_WW-_-SkillsNetwork-Courses-IBM-DA0321EN-SkillsNetwork-21426264&cm_mmca1=000026UJ&cm_mmca2=10006555&cm_mmca3=M12345678&cvosrc=email.Newsletter.M12345678&cvo_campaign=000026UJ&cm_mmc=Email_Newsletter-_-Developer_Ed%2BTech-_-WW_WW-_-SkillsNetwork-Courses-IBM-DA0321EN-SkillsNetwork-21426264&cm_mmca1=000026UJ&cm_mmca2=10006555&cm_mmca3=M12345678&cvosrc=email.Newsletter.M12345678&cvo_campaign=000026UJ).\n"
      ]
    }
  ]
}